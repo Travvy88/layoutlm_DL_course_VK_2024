{
 "cells": [
  {
   "cell_type": "code",
   "execution_count": 16,
   "id": "b41c6343",
   "metadata": {},
   "outputs": [],
   "source": [
    "import wandb\n",
    "wandb.login()"
   ]
  },
  {
   "cell_type": "code",
   "execution_count": 17,
   "id": "9d5d2893",
   "metadata": {
    "ExecuteTime": {
     "end_time": "2023-04-18T13:41:36.557456Z",
     "start_time": "2023-04-18T13:41:36.014362Z"
    }
   },
   "outputs": [],
   "source": [
    "import os\n",
    "import json\n",
    "from PIL import Image, ImageDraw, ImageFont\n",
    "from datasets import load_dataset, Features, Sequence, ClassLabel, Value, Array2D, Array3D\n",
    "from transformers import LayoutLMv3FeatureExtractor, LayoutLMv3TokenizerFast, LayoutLMv3Processor\n",
    "\n",
    "os.environ[\"CUDA_VISIBLE_DEVICES\"] = \"1\""
   ]
  },
  {
   "cell_type": "code",
   "execution_count": 18,
   "id": "8ad723be",
   "metadata": {
    "ExecuteTime": {
     "end_time": "2023-04-18T13:41:36.658380Z",
     "start_time": "2023-04-18T13:41:36.555308Z"
    }
   },
   "outputs": [],
   "source": [
    "dataset = {}\n",
    "#dataset['train'], dataset['test'] = load_dataset('datasets/invoices_limited_25/funsd.py',  split=['train', 'test'])\n",
    "dataset['train'], dataset['test'] = load_dataset('datasets/passports/passports_all_doctr.py',  split=['train[:5%]', 'test'])"
   ]
  },
  {
   "cell_type": "code",
   "execution_count": null,
   "id": "42a1418a-a022-40a0-8fc5-b4e72051df24",
   "metadata": {},
   "outputs": [],
   "source": [
    "feature_extractor = LayoutLMv3ImageProcessor(apply_ocr=True, )\n",
    "processor = ErnieLayoutProcessor(image_processor=feature_extractor, tokenizer=tokenizer)"
   ]
  },
  {
   "cell_type": "code",
   "execution_count": 19,
   "id": "895f80e1",
   "metadata": {
    "ExecuteTime": {
     "end_time": "2023-04-18T13:41:37.007167Z",
     "start_time": "2023-04-18T13:41:36.638440Z"
    }
   },
   "outputs": [],
   "source": [
    "from tokenizers import Tokenizer\n",
    "feature_extractor = LayoutLMv3FeatureExtractor(ocr_lang=\"rus\", apply_ocr=False)  # apply_ocr is set to True by default\n",
    "tokenizer = LayoutLMv3TokenizerFast.from_pretrained(\"microsoft/layoutlmv3-base\")\n",
    "processor = LayoutLMv3Processor(feature_extractor, tokenizer)"
   ]
  },
  {
   "cell_type": "code",
   "execution_count": 20,
   "id": "8f9a6ceb",
   "metadata": {
    "ExecuteTime": {
     "end_time": "2023-04-18T13:41:37.011536Z",
     "start_time": "2023-04-18T13:41:37.009328Z"
    }
   },
   "outputs": [],
   "source": [
    "\n",
    "labels = ['issued', 'issued_date', 'code', 'number', 'lastname', 'firstname', 'middlename', 'gender', 'bday', 'place', 'other']\n",
    "# labels = ['Банк получателя', 'Получатель', 'БИК банка получателя', 'Счет банка', 'Счет получателя', 'Всего к оплате', 'Поставщик', 'Покупатель', 'Остальное', 'Номер счета', 'Дата', 'ИНН получателя', 'КПП получателя']\n",
    "id2label = {v: k for v, k in enumerate(labels)}\n",
    "label2id = {k: v for v, k in enumerate(labels)}"
   ]
  },
  {
   "cell_type": "code",
   "execution_count": 21,
   "id": "8d1cd093",
   "metadata": {
    "ExecuteTime": {
     "end_time": "2023-04-18T13:41:37.018874Z",
     "start_time": "2023-04-18T13:41:37.017146Z"
    }
   },
   "outputs": [],
   "source": [
    "\n",
    "from datasets.features import ClassLabel\n",
    "\n",
    "features = dataset[\"train\"].features\n",
    "column_names = dataset[\"train\"].column_names\n",
    "image_column_name = \"image\"\n",
    "text_column_name = \"words\"\n",
    "boxes_column_name = \"bboxes\"\n",
    "label_column_name = \"ner_tags\"\n",
    "\n",
    "# In the event the labels are not a `Sequence[ClassLabel]`, we will need to go through the dataset to get the\n",
    "# unique labels.\n",
    "def get_label_list(labels):\n",
    "    unique_labels = set()\n",
    "    for label in labels:\n",
    "        unique_labels = unique_labels | set(label)\n",
    "    label_list = list(unique_labels)\n",
    "    label_list.sort()\n",
    "    return label_list\n",
    "\n",
    "if isinstance(features[label_column_name].feature, ClassLabel):\n",
    "    label_list = features[label_column_name].feature.names\n",
    "    # No need to convert the labels since they are already ints.\n",
    "    id2label = {k: v for k,v in enumerate(label_list)}\n",
    "    label2id = {v: k for k,v in enumerate(label_list)}\n",
    "else:\n",
    "    label_list = get_label_list(dataset[\"train\"][label_column_name])\n",
    "    id2label = {k: v for k,v in enumerate(label_list)}\n",
    "    label2id = {v: k for k,v in enumerate(label_list)}\n",
    "num_labels = len(label_list)\n",
    "\n",
    "\n",
    "def prepare_examples(examples):\n",
    "  images = [Image.open(path).convert('RGB') for path in examples['image_path']]\n",
    "  words = examples[text_column_name]\n",
    "  boxes = examples[boxes_column_name]\n",
    "  word_labels = examples[label_column_name]\n",
    "\n",
    "  encoding = processor(images, words, boxes=boxes, word_labels=word_labels,\n",
    "                       truncation=True, padding=\"max_length\")\n",
    "\n",
    "  return encoding\n"
   ]
  },
  {
   "cell_type": "code",
   "execution_count": 22,
   "id": "d2990aa4",
   "metadata": {
    "ExecuteTime": {
     "end_time": "2023-04-18T13:41:39.529368Z",
     "start_time": "2023-04-18T13:41:37.255144Z"
    }
   },
   "outputs": [],
   "source": [
    "\n",
    "from datasets import Features, Sequence, ClassLabel, Value, Array2D, Array3D\n",
    "\n",
    "# we need to define custom features for `set_format` (used later on) to work properly\n",
    "features = Features({\n",
    "    'pixel_values': Array3D(dtype=\"float32\", shape=(3, 224, 224)),\n",
    "    'input_ids': Sequence(feature=Value(dtype='int64')),\n",
    "    'attention_mask': Sequence(Value(dtype='int64')),\n",
    "    'bbox': Array2D(dtype=\"int64\", shape=(512, 4)),\n",
    "    'labels': Sequence(feature=Value(dtype='int64')),\n",
    "})\n",
    "\n",
    "train_dataset = dataset[\"train\"].map(\n",
    "    prepare_examples,\n",
    "    batched=True,\n",
    "    remove_columns=column_names,\n",
    "    features=features,\n",
    ")\n",
    "test_dataset = dataset[\"test\"].map(\n",
    "    prepare_examples,\n",
    "    batched=True,\n",
    "    remove_columns=column_names,\n",
    "    features=features,\n",
    ")"
   ]
  },
  {
   "cell_type": "code",
   "execution_count": 23,
   "id": "fd7561ef",
   "metadata": {
    "ExecuteTime": {
     "end_time": "2023-04-18T13:41:39.575666Z",
     "start_time": "2023-04-18T13:41:39.532793Z"
    }
   },
   "outputs": [],
   "source": [
    "dataset"
   ]
  },
  {
   "cell_type": "code",
   "execution_count": 24,
   "id": "3135a112",
   "metadata": {},
   "outputs": [],
   "source": [
    "from torch.utils.data import DataLoader\n",
    "\n",
    "train_dataset.set_format(type=\"torch\", device=\"cpu\")\n",
    "test_dataset.set_format(type=\"torch\", device=\"cpu\")\n",
    "train_dataloader = DataLoader(train_dataset, batch_size=4, shuffle=True)\n",
    "test_dataloader = DataLoader(test_dataset, batch_size=4, shuffle=False)"
   ]
  },
  {
   "cell_type": "code",
   "execution_count": 25,
   "id": "74fd90af",
   "metadata": {},
   "outputs": [],
   "source": [
    "from datasets import load_metric\n",
    "import numpy as np\n",
    "from transformers import TrainingArguments, LayoutLMv3ForTokenClassification, Trainer\n",
    "\n",
    "model = LayoutLMv3ForTokenClassification.from_pretrained('microsoft/layoutlmv3-base', num_labels=len(labels))\n",
    "\n",
    "# Set id2label and label2id\n",
    "model.config.id2label = id2label\n",
    "model.config.label2id = label2id\n",
    "\n",
    "# Metrics\n",
    "metric = load_metric(\"seqeval\")\n",
    "return_entity_level_metrics = True\n",
    "\n",
    "\n",
    "def compute_metrics(p):\n",
    "    predictions, labels = p\n",
    "    predictions = np.argmax(predictions, axis=2)\n",
    "\n",
    "    # Remove ignored index (special tokens)\n",
    "    true_predictions = [\n",
    "        [id2label[p] for (p, l) in zip(prediction, label) if l != -100]\n",
    "        for prediction, label in zip(predictions, labels)\n",
    "    ]\n",
    "    true_labels = [\n",
    "        [id2label[l] for (p, l) in zip(prediction, label) if l != -100]\n",
    "        for prediction, label in zip(predictions, labels)\n",
    "    ]\n",
    "\n",
    "    results = metric.compute(predictions=true_predictions, references=true_labels)\n",
    "    if return_entity_level_metrics:\n",
    "        # Unpack nested dictionaries\n",
    "        final_results = {}\n",
    "        for key, value in results.items():\n",
    "            if isinstance(value, dict):\n",
    "                for n, v in value.items():\n",
    "                    final_results[f\"{key}_{n}\"] = v\n",
    "            else:\n",
    "                final_results[key] = value\n",
    "        return final_results\n",
    "    else:\n",
    "        return {\n",
    "            \"precision\": results[\"overall_precision\"],\n",
    "            \"recall\": results[\"overall_recall\"],\n",
    "            \"f1\": results[\"overall_f1\"],\n",
    "            \"accuracy\": results[\"overall_accuracy\"],\n",
    "        }\n",
    "\n",
    "\n",
    "class RusFunsdTrainer(Trainer):\n",
    "    def get_train_dataloader(self):\n",
    "        return train_dataloader\n",
    "\n",
    "    def get_eval_dataloader(self, test_dataset):\n",
    "        return test_dataloader\n",
    "\n",
    "\n",
    "args = TrainingArguments(\n",
    "    output_dir=\"run\",  # name of directory to store the checkpoints\n",
    "    num_train_epochs=100,\n",
    "    warmup_ratio=0.1,\n",
    "    # warmup_steps=0,\n",
    "    learning_rate=3e-5,\n",
    "    lr_scheduler_type ='cosine',\n",
    "\n",
    "    evaluation_strategy=\"epoch\",\n",
    "    save_strategy='epoch',\n",
    "    logging_strategy='epoch',\n",
    "    load_best_model_at_end=True,\n",
    "\n",
    "    per_device_train_batch_size=4,\n",
    "    per_device_eval_batch_size=4,\n",
    "\n",
    "    metric_for_best_model='overall_f1',\n",
    "\n",
    "    seed=88\n",
    ")\n",
    "\n",
    "# Initialize our Trainer\n",
    "trainer = Trainer(\n",
    "    model=model,\n",
    "    args=args,\n",
    "    compute_metrics=compute_metrics,\n",
    "    eval_dataset=test_dataset,\n",
    "    train_dataset=train_dataset,\n",
    ")"
   ]
  },
  {
   "cell_type": "code",
   "execution_count": 26,
   "id": "48b799dd",
   "metadata": {},
   "outputs": [],
   "source": [
    "mem_params = sum([param.nelement()*param.element_size() for param in model.parameters()])\n",
    "mem_bufs = sum([buf.nelement()*buf.element_size() for buf in model.buffers()])\n",
    "mem = mem_params + mem_bufs # in bytes\n",
    "mem / 1024 / 1024 / 1024  # in GB"
   ]
  },
  {
   "cell_type": "code",
   "execution_count": 27,
   "id": "cef2c1e4",
   "metadata": {},
   "outputs": [],
   "source": [
    "wandb.init(project=\"passports\",\n",
    "           config=dict(\n",
    "           ))"
   ]
  },
  {
   "cell_type": "code",
   "execution_count": 28,
   "id": "da6a2266",
   "metadata": {},
   "outputs": [],
   "source": [
    "trainer.train()"
   ]
  },
  {
   "cell_type": "code",
   "execution_count": 30,
   "id": "95a01b71",
   "metadata": {},
   "outputs": [],
   "source": [
    "trainer.save_model(\"weights/last_run_best\")"
   ]
  },
  {
   "cell_type": "code",
   "execution_count": 15,
   "id": "ddf9651d",
   "metadata": {},
   "outputs": [
    {
     "data": {
      "text/plain": [
       "125926027"
      ]
     },
     "execution_count": 15,
     "metadata": {},
     "output_type": "execute_result"
    }
   ],
   "source": [
    "model_parameters = filter(lambda p: p.requires_grad, model.parameters())\n",
    "params = sum([np.prod(p.size()) for p in model_parameters])\n",
    "params"
   ]
  },
  {
   "cell_type": "code",
   "execution_count": null,
   "id": "b10f3c29",
   "metadata": {},
   "outputs": [],
   "source": []
  }
 ],
 "metadata": {
  "kernelspec": {
   "display_name": "Python 3 (ipykernel)",
   "language": "python",
   "name": "python3"
  },
  "language_info": {
   "codemirror_mode": {
    "name": "ipython",
    "version": 3
   },
   "file_extension": ".py",
   "mimetype": "text/x-python",
   "name": "python",
   "nbconvert_exporter": "python",
   "pygments_lexer": "ipython3",
   "version": "3.10.6"
  },
  "widgets": {
   "application/vnd.jupyter.widget-state+json": {
    "state": {},
    "version_major": 2,
    "version_minor": 0
   }
  }
 },
 "nbformat": 4,
 "nbformat_minor": 5
}
